{
  "nbformat": 4,
  "nbformat_minor": 0,
  "metadata": {
    "colab": {
      "provenance": [],
      "authorship_tag": "ABX9TyOVf8WsDnpxNCA+0Oahx3Mu",
      "include_colab_link": true
    },
    "kernelspec": {
      "name": "python3",
      "display_name": "Python 3"
    },
    "language_info": {
      "name": "python"
    }
  },
  "cells": [
    {
      "cell_type": "markdown",
      "metadata": {
        "id": "view-in-github",
        "colab_type": "text"
      },
      "source": [
        "<a href=\"https://colab.research.google.com/github/Hilljk3/COP2360Project/blob/main/Stacks_and_Queues.ipynb\" target=\"_parent\"><img src=\"https://colab.research.google.com/assets/colab-badge.svg\" alt=\"Open In Colab\"/></a>"
      ]
    },
    {
      "cell_type": "code",
      "execution_count": 3,
      "metadata": {
        "id": "qOtOdBkvhYd5"
      },
      "outputs": [],
      "source": [
        "\n",
        "\n",
        "class Stack:\n",
        "    def __init__(self):\n",
        "        self.stack = []\n",
        "\n",
        "    def push(self, item):\n",
        "        self.stack.append(item)\n",
        "\n",
        "    def pop(self):\n",
        "        if not self.is_empty():\n",
        "            return self.stack.pop()\n",
        "        else:\n",
        "            return None\n",
        "\n",
        "    def is_empty(self):\n",
        "        return len(self.stack) == 0\n",
        "\n",
        "    def remove_by_value(self, value):\n",
        "        temp_stack = []\n",
        "        while not self.is_empty():\n",
        "            top = self.pop()\n",
        "            if top == value:\n",
        "                break\n",
        "            temp_stack.append(top)\n",
        "\n",
        "        while temp_stack:\n",
        "            self.push(temp_stack.pop())\n",
        "\n",
        "    def remove_by_index(self, index):\n",
        "        temp_stack = []\n",
        "        for _ in range(index + 1):\n",
        "            temp_stack.append(self.pop())\n",
        "        temp_stack.pop()  # remove the targeted index\n",
        "\n",
        "        while temp_stack:\n",
        "            self.push(temp_stack.pop())\n",
        "\n",
        "class Queue:\n",
        "    def __init__(self):\n",
        "        self.queue = []\n",
        "\n",
        "    def enqueue(self, item):\n",
        "        self.queue.append(item)\n",
        "\n",
        "    def dequeue(self):\n",
        "        if not self.is_empty():\n",
        "            return self.queue.pop(0)\n",
        "        else:\n",
        "            return None\n",
        "\n",
        "    def is_empty(self):\n",
        "        return len(self.queue) == 0\n",
        "\n",
        "    def remove_by_value(self, value):\n",
        "        temp_queue = []\n",
        "        while not self.is_empty():\n",
        "            front = self.dequeue()\n",
        "            if front == value:\n",
        "                break\n",
        "            temp_queue.append(front)\n",
        "\n",
        "        while temp_queue:\n",
        "            self.enqueue(temp_queue.pop(0))\n",
        "\n",
        "# Stack Tasks\n",
        "stack = Stack()\n",
        "items_stack = [9,4,3,5,0,1,4,7]\n",
        "for item in items_stack:\n",
        "    stack.push(item)\n",
        "\n",
        "# Example Usage:\n",
        "# Remove a specific value (first instance found) or remove by index\n",
        "stack.remove_by_value(9)\n",
        "# stack.remove_by_index(4)\n",
        "\n",
        "# Queue Tasks\n",
        "queue = Queue()\n",
        "items_queue = [9,4,3,5,0,1,4,7]\n",
        "for item in items_queue:\n",
        "    queue.enqueue(item)\n",
        "\n",
        "# Example Usage:\n",
        "# Remove a specific value (first instance found)\n",
        "queue.remove_by_value(9)\n"
      ]
    }
  ]
}